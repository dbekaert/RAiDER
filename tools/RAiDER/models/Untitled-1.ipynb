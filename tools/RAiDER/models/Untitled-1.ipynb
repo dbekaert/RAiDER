{
 "cells": [
  {
   "cell_type": "code",
   "execution_count": 2,
   "metadata": {},
   "outputs": [],
   "source": [
    "'''\n",
    "API credential information and help url for downloading weather model data \n",
    "    saved in a hidden file in home directory \n",
    "\n",
    "api filename      weather models          UID           KEY         URL\n",
    "_________________________________________________________________________________\n",
    "cdsapirc          ERA5, ERA5T             uid           key         https://cds.climate.copernicus.eu/api/v2\n",
    "ecmwfapirc        ERAI, HRES              email         key         https://api.ecmwf.int/v1\n",
    "netrc             GMAO, MERRA2            username      password    urs.earthdata.nasa.gov \n",
    "<NAN>             HRRR [public access]    <NAN>         <NAN> \n",
    "'''\n",
    "\n",
    "import os\n",
    "from pathlib import Path\n",
    "from platform import system\n",
    "\n",
    "# Filename for the hidden file per model\n",
    "API_FILENAME = {'ERA5'  : 'cdsapirc',\n",
    "                'ERA5T' : 'cdsapirc',\n",
    "                'ERAI'  : 'ecmwfapirc',\n",
    "                'HRES'  : 'ecmwfapirc',\n",
    "                'GMAO'  : 'netrc',\n",
    "                'HRRR'  :  None\n",
    "                }\n",
    "\n",
    "# API urls\n",
    "API_URLS = {'cdsapirc'   : 'https://cds.climate.copernicus.eu/api/v2',\n",
    "            'ecmwfapirc' : 'https://api.ecmwf.int/v1',\n",
    "            'netrc' : 'urs.earthdata.nasa.gov'}\n",
    "\n",
    "# api credentials dict\n",
    "API_CREDENTIALS_DICT = {\n",
    "        'cdsapirc' :   {'api' : \"\"\"\\\n",
    "                                \\nurl: {host}\\\n",
    "                                \\nkey: {uid}:{key}\n",
    "                                \"\"\",\n",
    "                        'help_url' : 'https://cds.climate.copernicus.eu/api-how-to'\n",
    "                        },\n",
    "        'ecmwfapirc' : {'api' : \"\"\"{{\\\n",
    "                                 \\n\"url\"   : \"{host}\",\\\n",
    "                                 \\n\"key\"   : \"{key}\",\\\n",
    "                                 \\n\"email\" : \"{uid}\"\\\n",
    "                                 \\n}}\n",
    "                                \"\"\",\n",
    "                        'help_url' : 'https://confluence.ecmwf.int/display/WEBAPI/Access+ECMWF+Public+Datasets#AccessECMWFPublicDatasets-key'\n",
    "                        },\n",
    "        'netrc' :       {'api' : \"\"\"\\\n",
    "                                \\nmachine {host}\\\n",
    "                                \\n        login {uid}\\\n",
    "                                \\n        password {key}\\\n",
    "                                \"\"\",\n",
    "                       'help_url': 'https://wiki.earthdata.nasa.gov/display/EL/How+To+Access+Data+With+cURL+And+Wget'\n",
    "                       }\n",
    "                }\n",
    "\n",
    "# system environmental variables for API credentials\n",
    "'''\n",
    "ENV variables in cdsapi and ecmwapir\n",
    "\n",
    "cdsapi ['cdsapirc'] : CDSAPI_KEY [UID:KEY], 'CDSAPI_URL'\n",
    "ecmwfapir [ecmwfapirc] : 'ECMWF_API_KEY', 'ECMWF_API_EMAIL','ECMWF_API_URL'  \n",
    "\n",
    "'''\n",
    "\n",
    "# Check if API enviroments exists\n",
    "def _check_envs(model):\n",
    "    if model in ('ERA5', 'ERA5T'):\n",
    "        uid = os.getenv('RAIDER_ECMWF_ERA5_UID')\n",
    "        key = os.getenv('RAIDER_ECMWF_ERA5_API_KEY')\n",
    "        host = API_URLS['cdsapirc']\n",
    "\n",
    "    elif model in ('HRES'):\n",
    "        uid = os.getenv('RAIDER_HRES_EMAIL') \n",
    "        key = os.getenv('RAIDER_HRES_API_KEY')\n",
    "        host = os.getenv('RAIDER_HRES_URL')\n",
    "        if host is None:\n",
    "            host = API_URLS['ecmwfapirc']\n",
    "\n",
    "    elif model in ('GMAO'):\n",
    "        uid = os.getenv('EARTHDATA_USERNAME') # same as in DockerizedTopsApp\n",
    "        key = os.getenv('EARTHDATA_PASSWORD')\n",
    "        host = API_URLS['netrc']\n",
    "\n",
    "    else: # for HRRR\n",
    "        uid, key, host = None, None, None\n",
    "\n",
    "    return uid, key, host\n",
    "\n"
   ]
  },
  {
   "cell_type": "code",
   "execution_count": 34,
   "metadata": {},
   "outputs": [],
   "source": [
    "# Check and write MODEL API_RC_FILE for downloading weather model data\n",
    "def check_api(model: str,\n",
    "              UID: str = None,\n",
    "              KEY: str = None,\n",
    "              output_dir : str = '~/',\n",
    "              update_flag: bool = False) -> None:\n",
    "\n",
    "    # Weather model API filename\n",
    "    # typically stored in home dir as hidden file\n",
    "    api_filename = API_FILENAME[model]\n",
    "\n",
    "    # Get API credential from os.env if UID/KEY are not inserted\n",
    "    if UID is None and KEY is None:\n",
    "        UID, KEY, URL = _check_envs(model)\n",
    "    else:\n",
    "        URL = API_URLS[api_filename]\n",
    "\n",
    "    # Get hidden ext for Windows\n",
    "    hidden_ext = '_' if system()==\"Windows\" else '.'\n",
    "\n",
    "    # skip below if model is HRRR as it does not need API\n",
    "    if api_filename:    \n",
    "        # Check if the credential api file exists\n",
    "        api_filename_path = Path(output_dir) / (hidden_ext + api_filename)\n",
    "        api_filename_path = api_filename_path.expanduser()\n",
    "\n",
    "        # if update flag is on, overwrite existing file \n",
    "        if update_flag is True:\n",
    "            api_filename_path.unlink(missing_ok=True)\n",
    "        \n",
    "        # Check if API_RC file already exists\n",
    "        elif  not api_filename_path.exists() and UID and KEY:\n",
    "            # Create file with inputs, do it only once\n",
    "            print(f'Writing {api_filename_path} locally!')\n",
    "            api_filename_path.write_text(API_CREDENTIALS_DICT[api_filename]['api'].format(uid=UID,\n",
    "                                                                                          key=KEY,\n",
    "                                                                                          host=URL))\n",
    "            api_filename_path.chmod(0o000600)\n",
    "\n",
    "        else:\n",
    "            # Raise ERROR message\n",
    "            help_url = API_CREDENTIALS_DICT[api_filename]['help_url']\n",
    "\n",
    "            #Skip errors if the file exists\n",
    "            if api_filename_path.exists():\n",
    "                return None\n",
    "            # Raise ERROR in case only UID or KEY is inserted\n",
    "            elif UID is not None and KEY is None:\n",
    "                raise ValueError(f'ERROR: API UID not inserted'\n",
    "                                    f' or does not exist in ENVIRONMENTALS!')\n",
    "            elif UID is None and KEY is not None:\n",
    "                raise ValueError(f'ERROR: API KEY not inserted'\n",
    "                                    f' or does not exist in ENVIRONMENTALS!')\n",
    "            else:\n",
    "                #Raise ERROR is both UID/KEY are none\n",
    "                raise ValueError(\n",
    "                        f'{api_filename_path}, API ENVIRONMENTALS'\n",
    "                        f' and API UID and KEY, do not exist !!'\n",
    "                        f'\\nGet API info from ' + '\\033[1m' f'{help_url}' + '\\033[0m, and add it!')"
   ]
  },
  {
   "cell_type": "code",
   "execution_count": 11,
   "metadata": {},
   "outputs": [],
   "source": [
    "api_filename_path=Path('/home/govorcin/.netrc')"
   ]
  },
  {
   "cell_type": "code",
   "execution_count": 42,
   "metadata": {},
   "outputs": [],
   "source": [
    "if not api_filename_path.exists() and UID and  KEY:\n",
    "    print('yes')"
   ]
  },
  {
   "cell_type": "code",
   "execution_count": 43,
   "metadata": {},
   "outputs": [
    {
     "name": "stdout",
     "output_type": "stream",
     "text": [
      "yes\n"
     ]
    }
   ],
   "source": [
    "if ~api_filename_path.exists():\n",
    "    print('yes')"
   ]
  },
  {
   "cell_type": "code",
   "execution_count": 37,
   "metadata": {},
   "outputs": [],
   "source": [
    "UID= 'aa'\n",
    "KEY='aa'"
   ]
  },
  {
   "cell_type": "code",
   "execution_count": 35,
   "metadata": {},
   "outputs": [],
   "source": [
    "check_api('GMAO')"
   ]
  }
 ],
 "metadata": {
  "kernelspec": {
   "display_name": "Python 3",
   "language": "python",
   "name": "python3"
  },
  "language_info": {
   "codemirror_mode": {
    "name": "ipython",
    "version": 3
   },
   "file_extension": ".py",
   "mimetype": "text/x-python",
   "name": "python",
   "nbconvert_exporter": "python",
   "pygments_lexer": "ipython3",
   "version": "3.6.5"
  },
  "orig_nbformat": 4,
  "vscode": {
   "interpreter": {
    "hash": "aee8b7b246df8f9039afb4144a1f6fd8d2ca17a180786b69acc140d282b71a49"
   }
  }
 },
 "nbformat": 4,
 "nbformat_minor": 2
}
